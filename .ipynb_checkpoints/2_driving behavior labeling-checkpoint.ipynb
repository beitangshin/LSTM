{
 "cells": [
  {
   "cell_type": "code",
   "execution_count": null,
   "metadata": {},
   "outputs": [],
   "source": [
    "import glob\n",
    "import pandas as pd\n",
    "import numpy as np\n",
    "import os\n",
    "import time"
   ]
  },
  {
   "cell_type": "code",
   "execution_count": null,
   "metadata": {},
   "outputs": [],
   "source": [
    "#core function for labeling\n",
    "def label(df1):\n",
    "    #label for numchanges==1\n",
    "    df1['label']=2\n",
    "    d=df1[df1['numLaneChanges']==1]\n",
    "    d1=d['id'].drop_duplicates()\n",
    "    for i in d1:\n",
    "        dfid=df1[df1['id']==i]\n",
    "        #frame=abs(dfid['yVelocity']).argmax()\n",
    "        frame=abs(dfid['yVelocity']).idxmax()\n",
    "        m=0\n",
    "        n=0\n",
    "        while abs(df1.loc[frame-m,'yVelocity'])>gate_yveloctiy and df1.loc[frame-m,'id']== df1.loc[frame,'id']:\n",
    "            m=m+1\n",
    "            if frame-m<1:\n",
    "                pass\n",
    "        while abs(df1.loc[frame+n,'yVelocity'])>gate_yveloctiy and df1.loc[frame+n,'id']== df1.loc[frame,'id']:\n",
    "            n=n+1\n",
    "        if df1.loc[frame,'drivingDirection']==1 and df1.loc[frame+n,'y']>df1.loc[frame-m,'y']:\n",
    "            df1.loc[frame-m:frame+n,'label']=1\n",
    "        if df1.loc[frame,'drivingDirection']==1 and df1.loc[frame+n,'y']<df1.loc[frame-m,'y']:\n",
    "            df1.loc[frame-m:frame+n,'label']=3\n",
    "        if df1.loc[frame,'drivingDirection']==2 and df1.loc[frame+n,'y']>df1.loc[frame-m,'y']:\n",
    "            df1.loc[frame-m:frame+n,'label']=3\n",
    "        if df1.loc[frame,'drivingDirection']==2 and df1.loc[frame+n,'y']<df1.loc[frame-m,'y']:\n",
    "            df1.loc[frame-m:frame+n,'label']=1\n",
    "    #label for numchanges>1\n",
    "    f=df1[df1['numLaneChanges']>1]\n",
    "    f1=f['id'].drop_duplicates()\n",
    "    s=[]\n",
    "    for j in f1:\n",
    "        dfid=df1[df1['id']==j]\n",
    "        for i in dfid.index:\n",
    "            if i==dfid.index.max():\n",
    "                break\n",
    "            if dfid['laneId'][i]!=dfid['laneId'][i+1]:\n",
    "                 s.append(i)\n",
    "            for frame in s:\n",
    "                m=0\n",
    "                n=0\n",
    "                while abs(df1.loc[frame-m,'yVelocity'])>gate_yveloctiy and df1.loc[frame-m,'id']== df1.loc[frame,'id']:\n",
    "                    m=m+1\n",
    "                while abs(df1.loc[frame+n,'yVelocity'])>gate_yveloctiy and df1.loc[frame+n,'id']== df1.loc[frame,'id']:\n",
    "                    n=n+1\n",
    "                if df1.loc[frame,'drivingDirection']==1 and df1.loc[frame+1,'y']>df1.loc[frame-1,'y']:\n",
    "                    df1.loc[frame-m:frame+n,'label']=1\n",
    "                if df1.loc[frame,'drivingDirection']==1 and df1.loc[frame+1,'y']<df1.loc[frame-1,'y']:\n",
    "                    df1.loc[frame-m:frame+n,'label']=3\n",
    "                if df1.loc[frame,'drivingDirection']==2 and df1.loc[frame+1,'y']>df1.loc[frame-1,'y']:\n",
    "                    df1.loc[frame-m:frame+n,'label']=3\n",
    "                if df1.loc[frame,'drivingDirection']==2 and df1.loc[frame+1,'y']<df1.loc[frame-1,'y']:\n",
    "                    df1.loc[frame-m:frame+n,'label']=1"
   ]
  },
  {
   "cell_type": "code",
   "execution_count": null,
   "metadata": {},
   "outputs": [],
   "source": [
    "gate_yveloctiy=0.1\n",
    "base_path1 = r'/usr/stud/wangx0/storage/slurm/JieW/highd1/tracksenrich1'\n",
    "files1 = os.listdir(base_path1)\n",
    "files1.sort(key=lambda x: int(x.split('_')[0]))\n",
    "i=0\n",
    "for path1 in files1:\n",
    "    i=i+1\n",
    "    if i<5:\n",
    "        pass\n",
    "    t1=time.process_time()\n",
    "    full_path1 = os.path.join(base_path1, path1)\n",
    "    df4=pd.read_csv(full_path1)\n",
    "    label(df4)\n",
    "    df4.to_csv(r'/usr/stud/wangx0/storage/slurm/JieW/highd1/trackslabel/%d_trackslabel.csv'%(i))\n",
    "    \n",
    "    t2=time.process_time()\n",
    "    print(t2-t1)"
   ]
  },
  {
   "cell_type": "code",
   "execution_count": null,
   "metadata": {},
   "outputs": [],
   "source": []
  }
 ],
 "metadata": {
  "kernelspec": {
   "display_name": "Python 3",
   "language": "python",
   "name": "python3"
  },
  "language_info": {
   "codemirror_mode": {
    "name": "ipython",
    "version": 3
   },
   "file_extension": ".py",
   "mimetype": "text/x-python",
   "name": "python",
   "nbconvert_exporter": "python",
   "pygments_lexer": "ipython3",
   "version": "3.7.3"
  }
 },
 "nbformat": 4,
 "nbformat_minor": 2
}
