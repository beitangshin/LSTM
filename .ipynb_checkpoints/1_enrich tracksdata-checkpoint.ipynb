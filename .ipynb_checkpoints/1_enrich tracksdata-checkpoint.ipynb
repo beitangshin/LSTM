{
 "cells": [
  {
   "cell_type": "markdown",
   "metadata": {},
   "source": [
    "# driving intention labeling\n",
    "keep lane 2/lane change to left 1/lane change to right 3"
   ]
  },
  {
   "cell_type": "code",
   "execution_count": 5,
   "metadata": {},
   "outputs": [],
   "source": [
    "import glob\n",
    "import pandas as pd\n",
    "import numpy as np\n",
    "import os"
   ]
  },
  {
   "cell_type": "code",
   "execution_count": 8,
   "metadata": {},
   "outputs": [],
   "source": [
    "# read highD dataset\n",
    "# tracks\n",
    "#base_path1 = r'D:\\TUM论文工作\\第五周工作\\数据\\数据1'\n",
    "base_path1 = r'/usr/stud/wangx0/storage/slurm/JieW/highd1/tracks'\n",
    "files1 = os.listdir(base_path1)\n",
    "files1.sort(key=lambda x: int(x.split('_')[0]))\n",
    "dfs1=[]\n",
    "for path1 in files1:\n",
    "    full_path1 = os.path.join(base_path1, path1)\n",
    "    dfs1.append(pd.read_csv(full_path1))\n",
    "# tracks_Meta  \n",
    "#base_path2 = r'D:\\TUM论文工作\\第五周工作\\数据\\数据2'\n",
    "base_path2 = r'/usr/stud/wangx0/storage/slurm/JieW/highd1/tracksMeta'\n",
    "files2 = os.listdir(base_path2)\n",
    "files2.sort(key=lambda x: int(x.split('_')[0]))\n",
    "dfs2=[]\n",
    "for path2 in files2:\n",
    "    full_path2 = os.path.join(base_path2, path2)\n",
    "    dfs2.append(pd.read_csv(full_path2))"
   ]
  },
  {
   "cell_type": "code",
   "execution_count": 53,
   "metadata": {},
   "outputs": [],
   "source": [
    "# add drivingDirection and numLaneChanges to tracks.excel\n",
    "numdata=60\n",
    "for i,j in zip(range(numdata),range(numdata)):\n",
    "    df1=dfs1[i]\n",
    "    df2=dfs2[j]\n",
    "    drmap1=df2.set_index('id').to_dict()['drivingDirection']\n",
    "    df1['drivingDirection']=df1['id'].map(drmap1)\n",
    "    drmap2=df2.set_index('id').to_dict()['numLaneChanges']\n",
    "    df1['numLaneChanges']=df1['id'].map(drmap2)\n",
    "    drmap3=df2.set_index('id').to_dict()['class']\n",
    "    df1['class']=df1['id'].map(drmap3)\n",
    "    drmap4=df2.set_index('id').to_dict()['numFrames']\n",
    "    df1['numFrames']=df1['id'].map(drmap4)\n",
    "    #df1.to_csv(r'D:\\TUM论文工作\\第五周工作\\数据\\数据4\\%d_tracksnew.csv'%a[i])\n",
    "    df1.to_csv(r'/usr/stud/wangx0/storage/slurm/JieW/highd1/tracksenrich/%d_tracksenrich.csv'%(i+1))"
   ]
  },
  {
   "cell_type": "code",
   "execution_count": null,
   "metadata": {},
   "outputs": [],
   "source": []
  }
 ],
 "metadata": {
  "kernelspec": {
   "display_name": "Python 3",
   "language": "python",
   "name": "python3"
  },
  "language_info": {
   "codemirror_mode": {
    "name": "ipython",
    "version": 3
   },
   "file_extension": ".py",
   "mimetype": "text/x-python",
   "name": "python",
   "nbconvert_exporter": "python",
   "pygments_lexer": "ipython3",
   "version": "3.7.3"
  }
 },
 "nbformat": 4,
 "nbformat_minor": 2
}
